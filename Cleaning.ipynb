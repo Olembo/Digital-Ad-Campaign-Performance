{
 "cells": [
  {
   "cell_type": "code",
   "execution_count": 1,
   "id": "a2de8cd0",
   "metadata": {},
   "outputs": [],
   "source": [
    "import pandas as pd"
   ]
  },
  {
   "cell_type": "code",
   "execution_count": 2,
   "id": "bb053ad7",
   "metadata": {},
   "outputs": [],
   "source": [
    "df = pd.read_excel('digital.xlsx', sheet_name='Cleaning')"
   ]
  },
  {
   "cell_type": "code",
   "execution_count": 3,
   "id": "407b0e04",
   "metadata": {},
   "outputs": [],
   "source": [
    "import re\n",
    "\n",
    "# Function to extract numeric value\n",
    "def extract_amount(val):\n",
    "    # Find first number (handles decimals), even if text is mixed (e.g. \"SGD 1200a\")\n",
    "    match = re.search(r'[\\d,.]+', str(val))\n",
    "    if match:\n",
    "        # Remove commas, convert to float\n",
    "        return float(match.group().replace(\",\", \"\"))\n",
    "    else:\n",
    "        return None\n",
    "\n",
    "# Function to extract currency code\n",
    "def extract_currency(val):\n",
    "    # Look for known currency codes or symbol\n",
    "    val = str(val)\n",
    "    if \"USD\" in val: return \"USD\"\n",
    "    if \"TWD\" in val: return \"TWD\"\n",
    "    if \"SGD\" in val: return \"SGD\"\n",
    "    if \"AUD\" in val: return \"AUD\"\n",
    "    if \"$\" in val: return \"USD\"\n",
    "    if \"CAD\" in val: return \"CAD\"\n",
    "    if \"INR\" in val: return \"INR\"\n",
    "    if \"PHP\" in val: return \"PHP\"\n",
    "    if \"GBP\" in val: return \"GBP\"\n",
    "    if \"VND\" in val: return \"VND\"\n",
    "    # Add more currencies if needed\n",
    "    return None\n",
    "\n",
    "# Apply functions to the Spend column\n",
    "df['Spend_Amount'] = df['Spend'].apply(extract_amount)\n",
    "df['Spend_Currency'] = df['Spend'].apply(extract_currency)\n",
    "\n",
    "# Fill missing currency from Region default (example for Australia)\n",
    "region_currency = {\n",
    "    \"US\": \"USD\", \"CA\": \"USD\", \"UK\": \"USD\", \"AU\": \"AUD\", \"IN\": \"USD\", \"PH\": \"USD\",\n",
    "    \"SG\": \"SGD\", \"VN\": \"USD\", \"TW\": \"TWD\"\n",
    "}\n",
    "\n",
    "df['Spend_Currency'] = df.apply(\n",
    "    lambda row: row['Spend_Currency'] if pd.notnull(row['Spend_Currency'])\n",
    "    else region_currency.get(row['Region'], None), axis=1\n",
    ")\n"
   ]
  },
  {
   "cell_type": "code",
   "execution_count": 4,
   "id": "a638a73b",
   "metadata": {},
   "outputs": [],
   "source": [
    "from datetime import datetime\n",
    "\n",
    "# List all your possible date formats\n",
    "date_formats = [\n",
    "    \"%Y/%m/%d\",     # 2025/12/27\n",
    "    \"%Y.%m.%d\",     # 2023.03.09\n",
    "    \"%Y-%m-%d\",     # 2025-12-04\n",
    "    \"%b %d, %Y\",    # Apr 24, 2023\n",
    "    \"%m/%d/%Y\",     # 09/23/2023\n",
    "]\n",
    "\n",
    "def parse_flexible_date(val):\n",
    "    for fmt in date_formats:\n",
    "        try:\n",
    "            return datetime.strptime(str(val).strip(), fmt)\n",
    "        except:\n",
    "            continue\n",
    "    return pd.NaT\n",
    "\n",
    "# Apply to your DataFrame's Date column\n",
    "df['Date_Clean'] = df['Date'].apply(parse_flexible_date)\n",
    "\n",
    "# Now you can filter or keep only valid dates, as needed\n",
    "# Example: Only keep rows with valid dates\n",
    "df = df[df['Date_Clean'].notna()]\n"
   ]
  },
  {
   "cell_type": "code",
   "execution_count": 5,
   "id": "af4da6a0",
   "metadata": {},
   "outputs": [],
   "source": [
    "exchange_rates = {\n",
    "    \"USD\": 1,\n",
    "    \"SGD\": 0.74,\n",
    "    \"TWD\": 0.031,\n",
    "    \"CAD\": 0.73,\n",
    "    \"GBP\": 1.28,\n",
    "    \"INR\": 0.012,\n",
    "    \"PHP\": 0.017,\n",
    "    \"VND\": 0.000039,\n",
    "    \"AUD\": 0.66      \n",
    "}\n"
   ]
  },
  {
   "cell_type": "code",
   "execution_count": 6,
   "id": "5c6f716f",
   "metadata": {},
   "outputs": [],
   "source": [
    "import numpy as np\n",
    "\n",
    "def convert_to_usd(amount, currency):\n",
    "    try:\n",
    "        rate = exchange_rates.get(currency, None)\n",
    "        if rate is None or pd.isna(amount):\n",
    "            return np.nan  # or None\n",
    "        return amount * rate\n",
    "    except Exception:\n",
    "        return np.nan\n",
    "\n",
    "df['Spend_USD'] = df.apply(lambda row: convert_to_usd(row['Spend_Amount'], row['Spend_Currency']), axis=1)\n",
    "\n",
    "df['Spend_USD'] = df['Spend_USD'].round(2)\n"
   ]
  },
  {
   "cell_type": "code",
   "execution_count": 7,
   "id": "72253957",
   "metadata": {},
   "outputs": [],
   "source": [
    "import re\n",
    "\n",
    "# Function to extract numeric value\n",
    "def extract_amount(val):\n",
    "    match = re.search(r'[\\d,.]+', str(val))\n",
    "    if match:\n",
    "        return float(match.group().replace(\",\", \"\"))\n",
    "    else:\n",
    "        return None\n",
    "\n",
    "# Function to extract currency code\n",
    "def extract_currency(val):\n",
    "    val = str(val)\n",
    "    for curr in exchange_rates.keys():\n",
    "        if curr in val:\n",
    "            return curr\n",
    "    if \"$\" in val:\n",
    "        return \"USD\"\n",
    "    return None\n",
    "\n",
    "df['Revenue_amount'] = df['Revenue'].apply(extract_amount)\n",
    "df['Revenue_currency'] = df['Revenue'].apply(extract_currency)\n",
    "\n",
    "# Fill missing currency based on Region if blank\n",
    "region_currency = {\n",
    "    \"US\": \"USD\", \"CA\": \"USD\", \"UK\": \"USD\", \"AU\": \"AUD\", \"IN\": \"USD\", \"PH\": \"USD\",\n",
    "    \"SG\": \"SGD\", \"VN\": \"USD\", \"TW\": \"TWD\"\n",
    "}\n",
    "\n",
    "df['Revenue_currency'] = df.apply(\n",
    "    lambda row: row['Revenue_currency'] if pd.notnull(row['Revenue_currency'])\n",
    "    else region_currency.get(row['Region'], None), axis=1\n",
    ")\n"
   ]
  },
  {
   "cell_type": "code",
   "execution_count": 8,
   "id": "d6eee965",
   "metadata": {},
   "outputs": [],
   "source": [
    "def convert_to_usd(amount, currency):\n",
    "    try:\n",
    "        rate = exchange_rates.get(currency, None)\n",
    "        if rate is None or pd.isna(amount):\n",
    "            return None\n",
    "        return amount * rate\n",
    "    except Exception:\n",
    "        return None\n",
    "\n",
    "df['Revenue_USD'] = df.apply(lambda row: convert_to_usd(row['Revenue_amount'], row['Revenue_currency']), axis=1)\n"
   ]
  },
  {
   "cell_type": "code",
   "execution_count": 9,
   "id": "2ff9856b",
   "metadata": {},
   "outputs": [],
   "source": [
    "# save the cleaned DataFrame to a new Excel file\n",
    "df.to_excel('cleaned_data.xlsx', index=False)"
   ]
  }
 ],
 "metadata": {
  "kernelspec": {
   "display_name": "Python 3",
   "language": "python",
   "name": "python3"
  },
  "language_info": {
   "codemirror_mode": {
    "name": "ipython",
    "version": 3
   },
   "file_extension": ".py",
   "mimetype": "text/x-python",
   "name": "python",
   "nbconvert_exporter": "python",
   "pygments_lexer": "ipython3",
   "version": "3.13.3"
  }
 },
 "nbformat": 4,
 "nbformat_minor": 5
}
